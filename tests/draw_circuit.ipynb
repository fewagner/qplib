{
 "cells": [
  {
   "cell_type": "code",
   "execution_count": 13,
   "id": "e1acd1dc-5b1b-44e9-8528-ac0e3720bcb1",
   "metadata": {
    "tags": []
   },
   "outputs": [],
   "source": [
    "from qiskit import QuantumCircuit\n",
    "import numpy as np"
   ]
  },
  {
   "cell_type": "code",
   "execution_count": 14,
   "id": "9e8a9084-0b88-4ddb-b75b-d631ed6564d1",
   "metadata": {
    "tags": []
   },
   "outputs": [],
   "source": [
    "# # Build a quantum circuit\n",
    "# circuit = QuantumCircuit(3, 3)\n",
    " \n",
    "# circuit.x(1)\n",
    "# circuit.h(range(3))\n",
    "# circuit.cx(0, 1)\n",
    "# circuit.measure(range(3), range(3));"
   ]
  },
  {
   "cell_type": "code",
   "execution_count": 50,
   "id": "818f498e-5db5-46b7-b816-db4fc2ed8f09",
   "metadata": {
    "tags": []
   },
   "outputs": [],
   "source": [
    "# Build a quantum circuit\n",
    "circuit = QuantumCircuit(1, 1)\n",
    "circuit.measure(0, 0)\n",
    "\n",
    "circuit_loop = QuantumCircuit(1, 1)\n",
    "circuit_loop.x(0)\n",
    "circuit_loop.delay(1,0)\n",
    "circuit_loop.x(0)\n",
    "circuit_loop.measure(0, 0)\n",
    "# circuit_loop = circuit_loop.repeat(3)\n",
    "\n",
    "circuit.compose(circuit_loop, inplace=True)"
   ]
  },
  {
   "cell_type": "code",
   "execution_count": 51,
   "id": "c00a25f0-37f3-4cde-832e-5e83b1308611",
   "metadata": {
    "tags": []
   },
   "outputs": [
    {
     "name": "stdout",
     "output_type": "stream",
     "text": [
      "     ┌─┐┌───┐┌──────────────┐┌───┐┌─┐\n",
      "  q: ┤M├┤ X ├┤ Delay(1[dt]) ├┤ X ├┤M├\n",
      "     └╥┘└───┘└──────────────┘└───┘└╥┘\n",
      "c: 1/═╩════════════════════════════╩═\n",
      "      0                            0 \n"
     ]
    }
   ],
   "source": [
    "print(circuit)"
   ]
  },
  {
   "cell_type": "code",
   "execution_count": 52,
   "id": "0217dc7f-3e6a-433f-b7b5-72139aca02fd",
   "metadata": {
    "tags": []
   },
   "outputs": [
    {
     "data": {
      "text/html": [
       "<pre style=\"word-wrap: normal;white-space: pre;background: #fff0;line-height: 1.1;font-family: &quot;Courier New&quot;,Courier,monospace\">     ┌─┐┌───┐┌──────────────┐┌───┐┌─┐\n",
       "  q: ┤M├┤ X ├┤ Delay(1[dt]) ├┤ X ├┤M├\n",
       "     └╥┘└───┘└──────────────┘└───┘└╥┘\n",
       "c: 1/═╩════════════════════════════╩═\n",
       "      0                            0 </pre>"
      ],
      "text/plain": [
       "     ┌─┐┌───┐┌──────────────┐┌───┐┌─┐\n",
       "  q: ┤M├┤ X ├┤ Delay(1[dt]) ├┤ X ├┤M├\n",
       "     └╥┘└───┘└──────────────┘└───┘└╥┘\n",
       "c: 1/═╩════════════════════════════╩═\n",
       "      0                            0 "
      ]
     },
     "execution_count": 52,
     "metadata": {},
     "output_type": "execute_result"
    }
   ],
   "source": [
    "circuit.draw()"
   ]
  },
  {
   "cell_type": "code",
   "execution_count": 53,
   "id": "1776afa3-186c-4d61-bcaa-8a0e1450d0fb",
   "metadata": {
    "tags": []
   },
   "outputs": [
    {
     "data": {
      "image/png": "[encoded data removed]",
      "text/plain": [
       "<Figure size 519.897x200.667 with 1 Axes>"
      ]
     },
     "execution_count": 53,
     "metadata": {},
     "output_type": "execute_result"
    }
   ],
   "source": [
    "# Matplotlib drawing\n",
    "circuit.draw(output='mpl')"
   ]
  },
  {
   "cell_type": "code",
   "execution_count": null,
   "id": "3cd08486-8506-456b-9ff9-76e397627a87",
   "metadata": {},
   "outputs": [],
   "source": []
  }
 ],
 "metadata": {
  "kernelspec": {
   "display_name": "Python 3 (ipykernel)",
   "language": "python",
   "name": "python3"
  },
  "language_info": {
   "codemirror_mode": {
    "name": "ipython",
    "version": 3
   },
   "file_extension": ".py",
   "mimetype": "text/x-python",
   "name": "python",
   "nbconvert_exporter": "python",
   "pygments_lexer": "ipython3",
   "version": "3.10.10"
  }
 },
 "nbformat": 4,
 "nbformat_minor": 5
}
