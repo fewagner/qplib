{
 "cells": [
  {
   "cell_type": "code",
   "execution_count": 1,
   "id": "69db1adf-10e1-4b66-b3ca-d34904fc3b2e",
   "metadata": {},
   "outputs": [],
   "source": [
    "import pycqed\n",
    "import numpy as np\n",
    "import matplotlib.pyplot as plt\n",
    "import scipy.signal as sig"
   ]
  },
  {
   "cell_type": "code",
   "execution_count": 3,
   "id": "6a7ce9f6-0077-4752-be5c-de02d34b39e3",
   "metadata": {},
   "outputs": [],
   "source": [
    "from pycqedscripts.scripts.qpt_analysis.qpt_functions import charge_parity_psd, bootstrapping, prepare_data, double_charge_parity_psd, double_peak_bootstrapping\n",
    "import pycqed.analysis_v3.helper_functions as hdf_tools"
   ]
  },
  {
   "cell_type": "code",
   "execution_count": 4,
   "id": "abdbe2c1-0269-45c0-984f-f27359e50b44",
   "metadata": {},
   "outputs": [
    {
     "name": "stdout",
     "output_type": "stream",
     "text": [
      "The autoreload extension is already loaded. To reload it, use:\n",
      "  %reload_ext autoreload\n"
     ]
    }
   ],
   "source": [
    "%load_ext autoreload\n",
    "%autoreload 2\n",
    "%config InlineBackend.figure_formats = ['svg']"
   ]
  },
  {
   "cell_type": "code",
   "execution_count": 12,
   "id": "1b72735d-4b0b-46cd-ad1a-172cc192f927",
   "metadata": {},
   "outputs": [],
   "source": [
    "figs_folder = \"/Users/Felix/Projects/qpswitch/figs\"\n",
    "data_folder = \"/Users/Felix/Projects/qpswitch/data\""
   ]
  },
  {
   "cell_type": "code",
   "execution_count": 14,
   "id": "9580900f-9380-49a4-9814-7efceecb0b7e",
   "metadata": {},
   "outputs": [],
   "source": [
    "qb = 'qb1c'\n",
    "date = 20240125\n",
    "lower_timestamp = '20240125_094000'\n",
    "upper_timestamp = '20240125_123000'"
   ]
  },
  {
   "cell_type": "code",
   "execution_count": 15,
   "id": "7d5749d2-c4a1-42f4-a0c5-72e3d578e6f1",
   "metadata": {},
   "outputs": [
    {
     "ename": "FileNotFoundError",
     "evalue": "[WinError 3] The system cannot find the path specified: 'C:\\\\Users\\\\Felix\\\\Projects\\\\pycqed_py3\\\\data'",
     "output_type": "error",
     "traceback": [
      "\u001b[1;31m---------------------------------------------------------------------------\u001b[0m",
      "\u001b[1;31mFileNotFoundError\u001b[0m                         Traceback (most recent call last)",
      "Cell \u001b[1;32mIn[15], line 1\u001b[0m\n\u001b[1;32m----> 1\u001b[0m qb_analysis \u001b[38;5;241m=\u001b[39m \u001b[43mprepare_data\u001b[49m\u001b[43m(\u001b[49m\u001b[43mlower_timestamp\u001b[49m\u001b[43m,\u001b[49m\u001b[43m \u001b[49m\u001b[43mupper_timestamp\u001b[49m\u001b[43m,\u001b[49m\u001b[43m \u001b[49m\u001b[43mdata_folder\u001b[49m\u001b[43m,\u001b[49m\u001b[43m \u001b[49m\u001b[43mqb_names\u001b[49m\u001b[38;5;241;43m=\u001b[39;49m\u001b[43mqb\u001b[49m\u001b[43m)\u001b[49m\n\u001b[0;32m      2\u001b[0m \u001b[38;5;28mprint\u001b[39m(\u001b[38;5;28mlen\u001b[39m(a_tools\u001b[38;5;241m.\u001b[39mget_timestamps_in_range(lower_timestamp, upper_timestamp, label\u001b[38;5;241m=\u001b[39m\u001b[38;5;124m\"\u001b[39m\u001b[38;5;124mRamseyQPTRate\u001b[39m\u001b[38;5;124m\"\u001b[39m)))\n",
      "File \u001b[1;32mc:\\users\\felix\\projects\\pycqed_scripts\\pycqedscripts\\scripts\\qpt_analysis\\qpt_functions.py:677\u001b[0m, in \u001b[0;36mprepare_data\u001b[1;34m(lower_timestamp, upper_timestamp, data_folder, qb_names)\u001b[0m\n\u001b[0;32m    670\u001b[0m \u001b[38;5;28;01mdef\u001b[39;00m \u001b[38;5;21mprepare_data\u001b[39m(lower_timestamp, upper_timestamp, data_folder, qb_names\u001b[38;5;241m=\u001b[39m\u001b[38;5;124m'\u001b[39m\u001b[38;5;124m'\u001b[39m):\n\u001b[0;32m    671\u001b[0m     qb_ts0 \u001b[38;5;241m=\u001b[39m a_tools\u001b[38;5;241m.\u001b[39mget_timestamps_in_range(\n\u001b[0;32m    672\u001b[0m         lower_timestamp, timestamp_end\u001b[38;5;241m=\u001b[39mupper_timestamp,\n\u001b[0;32m    673\u001b[0m         label\u001b[38;5;241m=\u001b[39m[\u001b[38;5;124m'\u001b[39m\u001b[38;5;124mRamseyQPTRate_ge_\u001b[39m\u001b[38;5;124m'\u001b[39m\u001b[38;5;241m+\u001b[39mqb_names], \n\u001b[0;32m    674\u001b[0m         exact_label_match\u001b[38;5;241m=\u001b[39m\u001b[38;5;28;01mFalse\u001b[39;00m, folder\u001b[38;5;241m=\u001b[39mdata_folder\n\u001b[0;32m    675\u001b[0m                                 )\n\u001b[1;32m--> 677\u001b[0m     qb_analysis \u001b[38;5;241m=\u001b[39m \u001b[43mfast_beating_analysis\u001b[49m\u001b[43m(\u001b[49m\u001b[43mqb_ts0\u001b[49m\u001b[43m)\u001b[49m\n\u001b[0;32m    678\u001b[0m     get_charge_parity_periodogram(qb_analysis)\n\u001b[0;32m    679\u001b[0m     \u001b[38;5;28;01mreturn\u001b[39;00m qb_analysis\n",
      "File \u001b[1;32mc:\\users\\felix\\projects\\pycqed_scripts\\pycqedscripts\\scripts\\qpt_analysis\\qpt_functions.py:36\u001b[0m, in \u001b[0;36mfast_beating_analysis\u001b[1;34m(fast_beating_ts, instr_trigger_name)\u001b[0m\n\u001b[0;32m     11\u001b[0m \u001b[38;5;250m\u001b[39m\u001b[38;5;124;03m\"\"\"\u001b[39;00m\n\u001b[0;32m     12\u001b[0m \u001b[38;5;124;03mfunction creating a dictionary with all relevant \u001b[39;00m\n\u001b[0;32m     13\u001b[0m \u001b[38;5;124;03minformation from a raw measurement file\u001b[39;00m\n\u001b[1;32m   (...)\u001b[0m\n\u001b[0;32m     33\u001b[0m \u001b[38;5;124;03m}\u001b[39;00m\n\u001b[0;32m     34\u001b[0m \u001b[38;5;124;03m\"\"\"\u001b[39;00m\n\u001b[0;32m     35\u001b[0m ts0 \u001b[38;5;241m=\u001b[39m fast_beating_ts[\u001b[38;5;241m0\u001b[39m]\n\u001b[1;32m---> 36\u001b[0m qbn \u001b[38;5;241m=\u001b[39m \u001b[43mhdf_tools\u001b[49m\u001b[38;5;241;43m.\u001b[39;49m\u001b[43mget_param_from_metadata_group\u001b[49m\u001b[43m(\u001b[49m\u001b[43mtimestamp\u001b[49m\u001b[38;5;241;43m=\u001b[39;49m\u001b[43mts0\u001b[49m\u001b[43m,\u001b[49m\u001b[43m \u001b[49m\u001b[43mparam_name\u001b[49m\u001b[38;5;241;43m=\u001b[39;49m\u001b[38;5;124;43m'\u001b[39;49m\u001b[38;5;124;43mmeas_objs\u001b[39;49m\u001b[38;5;124;43m'\u001b[39;49m\u001b[43m)\u001b[49m\n\u001b[0;32m     37\u001b[0m data \u001b[38;5;241m=\u001b[39m hdf_tools\u001b[38;5;241m.\u001b[39mget_data_from_hdf_file(timestamp\u001b[38;5;241m=\u001b[39mts0)[:,\u001b[38;5;241m1\u001b[39m:]\n\u001b[0;32m     38\u001b[0m spacing \u001b[38;5;241m=\u001b[39m \u001b[38;5;28mlen\u001b[39m(data\u001b[38;5;241m.\u001b[39mT)\u001b[38;5;241m/\u001b[39m\u001b[38;5;241m/\u001b[39m\u001b[38;5;28mlen\u001b[39m(qbn)\n",
      "File \u001b[1;32m~\\Projects\\pycqed_py3\\pycqed\\analysis_v3\\helper_functions.py:93\u001b[0m, in \u001b[0;36mget_param_from_metadata_group\u001b[1;34m(timestamp, param_name, data_file, close_file, **params)\u001b[0m\n\u001b[0;32m     73\u001b[0m \u001b[38;5;250m\u001b[39m\u001b[38;5;124;03m\"\"\"\u001b[39;00m\n\u001b[0;32m     74\u001b[0m \u001b[38;5;124;03mGet a parameter with param_name from the Experimental Metadata group in\u001b[39;00m\n\u001b[0;32m     75\u001b[0m \u001b[38;5;124;03man HDF5 file, or return the whole group if\u001b[39;00m\n\u001b[1;32m   (...)\u001b[0m\n\u001b[0;32m     89\u001b[0m \u001b[38;5;124;03m    dictionary\u001b[39;00m\n\u001b[0;32m     90\u001b[0m \u001b[38;5;124;03m\"\"\"\u001b[39;00m\n\u001b[0;32m     92\u001b[0m \u001b[38;5;28;01mif\u001b[39;00m data_file \u001b[38;5;129;01mis\u001b[39;00m \u001b[38;5;28;01mNone\u001b[39;00m:\n\u001b[1;32m---> 93\u001b[0m     data_file \u001b[38;5;241m=\u001b[39m \u001b[43mopen_hdf_file\u001b[49m\u001b[43m(\u001b[49m\u001b[43mtimestamp\u001b[49m\u001b[43m,\u001b[49m\u001b[43m \u001b[49m\u001b[38;5;241;43m*\u001b[39;49m\u001b[38;5;241;43m*\u001b[39;49m\u001b[43mparams\u001b[49m\u001b[43m)\u001b[49m\n\u001b[0;32m     94\u001b[0m \u001b[38;5;28;01mtry\u001b[39;00m:\n\u001b[0;32m     95\u001b[0m     \u001b[38;5;28;01mif\u001b[39;00m param_name \u001b[38;5;129;01mis\u001b[39;00m \u001b[38;5;28;01mNone\u001b[39;00m:\n",
      "File \u001b[1;32m~\\Projects\\pycqed_py3\\pycqed\\analysis_v3\\helper_functions.py:260\u001b[0m, in \u001b[0;36mopen_hdf_file\u001b[1;34m(timestamp, folder, filepath, mode, file_id, **params)\u001b[0m\n\u001b[0;32m    258\u001b[0m     \u001b[38;5;28;01mif\u001b[39;00m folder \u001b[38;5;129;01mis\u001b[39;00m \u001b[38;5;28;01mNone\u001b[39;00m:\n\u001b[0;32m    259\u001b[0m         \u001b[38;5;28;01massert\u001b[39;00m timestamp \u001b[38;5;129;01mis\u001b[39;00m \u001b[38;5;129;01mnot\u001b[39;00m \u001b[38;5;28;01mNone\u001b[39;00m\n\u001b[1;32m--> 260\u001b[0m         folder \u001b[38;5;241m=\u001b[39m \u001b[43ma_tools\u001b[49m\u001b[38;5;241;43m.\u001b[39;49m\u001b[43mget_folder\u001b[49m\u001b[43m(\u001b[49m\u001b[43mtimestamp\u001b[49m\u001b[43m)\u001b[49m\n\u001b[0;32m    261\u001b[0m     filepath \u001b[38;5;241m=\u001b[39m a_tools\u001b[38;5;241m.\u001b[39mmeasurement_filename(folder, file_id\u001b[38;5;241m=\u001b[39mfile_id,\n\u001b[0;32m    262\u001b[0m                                             \u001b[38;5;241m*\u001b[39m\u001b[38;5;241m*\u001b[39mparams)\n\u001b[0;32m    263\u001b[0m \u001b[38;5;28;01mreturn\u001b[39;00m h5py\u001b[38;5;241m.\u001b[39mFile(filepath, mode)\n",
      "File \u001b[1;32m~\\Projects\\pycqed_py3\\pycqed\\analysis\\analysis_toolbox.py:644\u001b[0m, in \u001b[0;36mget_folder\u001b[1;34m(timestamp, older_than, label, suppress_printing, folder, **kw)\u001b[0m\n\u001b[0;32m    641\u001b[0m \u001b[38;5;28;01mdef\u001b[39;00m \u001b[38;5;21mget_folder\u001b[39m(timestamp\u001b[38;5;241m=\u001b[39m\u001b[38;5;28;01mNone\u001b[39;00m, older_than\u001b[38;5;241m=\u001b[39m\u001b[38;5;28;01mNone\u001b[39;00m, label\u001b[38;5;241m=\u001b[39m\u001b[38;5;124m'\u001b[39m\u001b[38;5;124m'\u001b[39m,\n\u001b[0;32m    642\u001b[0m                suppress_printing\u001b[38;5;241m=\u001b[39m\u001b[38;5;28;01mTrue\u001b[39;00m, folder\u001b[38;5;241m=\u001b[39m\u001b[38;5;28;01mNone\u001b[39;00m, \u001b[38;5;241m*\u001b[39m\u001b[38;5;241m*\u001b[39mkw):\n\u001b[0;32m    643\u001b[0m     \u001b[38;5;28;01mif\u001b[39;00m timestamp \u001b[38;5;129;01mis\u001b[39;00m \u001b[38;5;129;01mnot\u001b[39;00m \u001b[38;5;28;01mNone\u001b[39;00m:\n\u001b[1;32m--> 644\u001b[0m         folder_ts \u001b[38;5;241m=\u001b[39m \u001b[43mdata_from_time\u001b[49m\u001b[43m(\u001b[49m\u001b[43mtimestamp\u001b[49m\u001b[43m,\u001b[49m\u001b[43m \u001b[49m\u001b[43mfolder\u001b[49m\u001b[38;5;241;43m=\u001b[39;49m\u001b[43mfolder\u001b[49m\u001b[43m)\u001b[49m\n\u001b[0;32m    645\u001b[0m         \u001b[38;5;28;01mif\u001b[39;00m \u001b[38;5;129;01mnot\u001b[39;00m suppress_printing:\n\u001b[0;32m    646\u001b[0m             \u001b[38;5;28mprint\u001b[39m(\u001b[38;5;124m'\u001b[39m\u001b[38;5;124mloaded file from folder \u001b[39m\u001b[38;5;124m\"\u001b[39m\u001b[38;5;132;01m%s\u001b[39;00m\u001b[38;5;124m\"\u001b[39m\u001b[38;5;124m using timestamp \u001b[39m\u001b[38;5;124m\"\u001b[39m\u001b[38;5;132;01m%s\u001b[39;00m\u001b[38;5;124m\"\u001b[39m\u001b[38;5;124m'\u001b[39m \u001b[38;5;241m%\u001b[39m (\n\u001b[0;32m    647\u001b[0m                 folder_ts, timestamp))\n",
      "File \u001b[1;32m~\\Projects\\pycqed_py3\\pycqed\\analysis\\analysis_toolbox.py:249\u001b[0m, in \u001b[0;36mdata_from_time\u001b[1;34m(timestamp, folder, auto_fetch)\u001b[0m\n\u001b[0;32m    247\u001b[0m \u001b[38;5;28;01mif\u001b[39;00m auto_fetch \u001b[38;5;129;01mis\u001b[39;00m \u001b[38;5;28;01mNone\u001b[39;00m:\n\u001b[0;32m    248\u001b[0m     auto_fetch \u001b[38;5;241m=\u001b[39m (fetch_data_dir \u001b[38;5;129;01mis\u001b[39;00m \u001b[38;5;129;01mnot\u001b[39;00m \u001b[38;5;28;01mNone\u001b[39;00m)\n\u001b[1;32m--> 249\u001b[0m daydirs \u001b[38;5;241m=\u001b[39m \u001b[43mos\u001b[49m\u001b[38;5;241;43m.\u001b[39;49m\u001b[43mlistdir\u001b[49m\u001b[43m(\u001b[49m\u001b[43mfolder\u001b[49m\u001b[43m)\u001b[49m\n\u001b[0;32m    250\u001b[0m \u001b[38;5;28;01mif\u001b[39;00m \u001b[38;5;28mlen\u001b[39m(daydirs) \u001b[38;5;241m==\u001b[39m \u001b[38;5;241m0\u001b[39m \u001b[38;5;129;01mand\u001b[39;00m \u001b[38;5;129;01mnot\u001b[39;00m auto_fetch:\n\u001b[0;32m    251\u001b[0m     \u001b[38;5;28;01mraise\u001b[39;00m \u001b[38;5;167;01mException\u001b[39;00m(\u001b[38;5;124m'\u001b[39m\u001b[38;5;124mNo data in the data directory specified\u001b[39m\u001b[38;5;124m'\u001b[39m)\n",
      "\u001b[1;31mFileNotFoundError\u001b[0m: [WinError 3] The system cannot find the path specified: 'C:\\\\Users\\\\Felix\\\\Projects\\\\pycqed_py3\\\\data'"
     ]
    }
   ],
   "source": [
    "qb_analysis = prepare_data(lower_timestamp, upper_timestamp, data_folder, qb_names=qb)\n",
    "print(len(a_tools.get_timestamps_in_range(lower_timestamp, upper_timestamp, label=\"RamseyQPTRate\")))"
   ]
  },
  {
   "cell_type": "code",
   "execution_count": null,
   "id": "92e5c43f-8c44-4a41-a1ce-c5eb3cda5f5e",
   "metadata": {},
   "outputs": [],
   "source": []
  }
 ],
 "metadata": {
  "kernelspec": {
   "display_name": "Python 3 (ipykernel)",
   "language": "python",
   "name": "python3"
  },
  "language_info": {
   "codemirror_mode": {
    "name": "ipython",
    "version": 3
   },
   "file_extension": ".py",
   "mimetype": "text/x-python",
   "name": "python",
   "nbconvert_exporter": "python",
   "pygments_lexer": "ipython3",
   "version": "3.11.7"
  }
 },
 "nbformat": 4,
 "nbformat_minor": 5
}
